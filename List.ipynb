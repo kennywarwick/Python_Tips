{
 "cells": [
  {
   "cell_type": "markdown",
   "metadata": {},
   "source": [
    "### For 中文 tutorial-decode & encode"
   ]
  },
  {
   "cell_type": "code",
   "execution_count": 21,
   "metadata": {
    "collapsed": false
   },
   "outputs": [
    {
     "name": "stdout",
     "output_type": "stream",
     "text": [
      "['\\xe5\\xae\\x89\\xe9\\x9d\\x9c', '\\xe8\\x88\\x92\\xe6\\x9c\\x8d', '\\xe6\\x96\\xb0\\xe7\\xa9\\x8e']\n",
      "<type 'list'>\n",
      "===================================\n",
      "[u'\\u5b89\\u975c', u'\\u8212\\u670d', u'\\u65b0\\u7a4e']\n",
      "<type 'list'>\n"
     ]
    }
   ],
   "source": [
    "test_list = ['安靜', '舒服', '新穎']\n",
    "\n",
    "print test_list\n",
    "print type(test_list)\n",
    "print \"===================================\"\n",
    "print [x.decode('utf-8') for x in test_list]\n",
    "### 'list' object has no attribute 'encode'\n",
    "print type([x.decode('utf-8') for x in test_list])"
   ]
  },
  {
   "cell_type": "code",
   "execution_count": 22,
   "metadata": {
    "collapsed": false
   },
   "outputs": [
    {
     "name": "stdout",
     "output_type": "stream",
     "text": [
      "======================================================================\n",
      "|                    Show list 顯示 for loops                        |\n",
      "======================================================================\n",
      "安靜 <type 'str'>\n",
      "舒服 <type 'str'>\n",
      "新穎 <type 'str'>\n",
      "======================================================================\n",
      "|                  decode('utf-8'):  str => unicode                  |\n",
      "======================================================================\n",
      "安靜 <type 'unicode'>\n",
      "舒服 <type 'unicode'>\n",
      "新穎 <type 'unicode'>\n"
     ]
    }
   ],
   "source": [
    "print \"======================================================================\"\n",
    "print \"|                    Show list 顯示 for loops                        |\"\n",
    "print \"======================================================================\"\n",
    "\n",
    "for x in test_list:\n",
    "    print x , type(x)\n",
    "    \n",
    "print \"======================================================================\"\n",
    "print \"|                  decode('utf-8'):  str => unicode                  |\"\n",
    "print \"======================================================================\"\n",
    "\n",
    "for x in test_list:\n",
    "    print x.decode(\"utf-8\") , type(x.decode(\"utf-8\")) "
   ]
  },
  {
   "cell_type": "code",
   "execution_count": 24,
   "metadata": {
    "collapsed": false
   },
   "outputs": [
    {
     "name": "stdout",
     "output_type": "stream",
     "text": [
      "['\\xe6\\x88\\x91', 'B', 'C', ' D ']\n",
      "4\n",
      "['\\xe6\\x88\\x91', 'B', 'C', 'D']\n",
      "4\n",
      "['我', 'B', 'C', 'D']\n",
      "22\n"
     ]
    }
   ],
   "source": [
    "import ast\n",
    "x = u'[ \"我\",\"B\",\"C\" , \" D \"]'\n",
    "x = ast.literal_eval(x)\n",
    "print x\n",
    "print len(x)\n",
    "x = [n.strip() for n in x]\n",
    "print x\n",
    "print len(x)\n",
    "print str(x).decode('string_escape')\n",
    "print len(str(x).decode('string_escape')) ##僅僅是秀出來，但還是str"
   ]
  },
  {
   "cell_type": "markdown",
   "metadata": {
    "collapsed": false
   },
   "source": [
    "Python 印出中文字串\n",
    "\n",
    "在範例裏，我們有兩種方式可以印出中文字串：\n",
    "直接印出宣告 Unicode 的變數\n",
    "使用 unicode 的 .encode 函數以 UTF-8 編碼 String 印出\n",
    "\n",
    "encode 函數: Unicode >>> String；\n",
    "\n",
    "decode 函數: String >>> Unicode：\n",
    "\n",
    "List 裡，如果要看中文編碼，須轉成str，然後\" .decode('string_escape')\"。\n",
    "\n",
    "此外，我們在範例裏使用 UTF-8 編碼印中文，是因為 UTF-8 編碼印中文有幾個優點：\n",
    "UTF-8 兼容 ASCII；\n",
    "不同於繁體的 Big5 只能編碼中文，UTF-8 能編碼任何 Unicode 支援的文字。\n",
    "UTF-8 為了能夠表達足夠的文字，因此採取動態長度編碼，也就是每個字會由幾個 byte 組成並非固定的。"
   ]
  },
  {
   "cell_type": "code",
   "execution_count": 12,
   "metadata": {
    "collapsed": false
   },
   "outputs": [
    {
     "name": "stdout",
     "output_type": "stream",
     "text": [
      "直接印出 Unicode 一\n",
      "直接印出 Unicode 二\n",
      "Unicode 編碼 UTF-8 String 一\n",
      "Unicode 編碼 UTF-8 String 二\n",
      "UTF-8 String 解碼 Unicode\n"
     ]
    }
   ],
   "source": [
    "#!/usr/bin/env python\n",
    "# -*- coding: utf8 -*-\n",
    "\n",
    "print '直接印出 Unicode 一'\n",
    "\n",
    "msg = u'直接印出 Unicode 二'\n",
    "print msg\n",
    "\n",
    "msg2 = u'Unicode 編碼 UTF-8 String 一'\n",
    "encoded = msg2.encode('utf8')\n",
    "print encoded\n",
    "\n",
    "print u'Unicode 編碼 UTF-8 String 二'.encode('utf8')\n",
    "\n",
    "msg3 = 'UTF-8 String \\xe8\\xa7\\xa3\\xe7\\xa2\\xbc Unicode'\n",
    "decoded = msg3.decode('utf8')\n",
    "print decoded"
   ]
  },
  {
   "cell_type": "code",
   "execution_count": 3,
   "metadata": {
    "collapsed": false
   },
   "outputs": [
    {
     "name": "stdout",
     "output_type": "stream",
     "text": [
      "['中文', 'English', 4, [123, 456]]\n",
      "['\\xe4\\xb8\\xad\\xe6\\x96\\x87', 'English', 4, [123, 456]]\n",
      "<type 'str'>\n",
      "中文\n",
      "<type 'unicode'>\n",
      "['中文', 'English', 4, [123, 456]]\n"
     ]
    }
   ],
   "source": [
    "#!/usr/bin/env python\n",
    "# -*- coding: utf8 -*-\n",
    "import uniout\n",
    "import _uniout\n",
    "\n",
    "a = ['中文', 'English', 4, [123,456]]\n",
    "print str(a).decode('string_escape') ##List使用decode\n",
    "print a\n",
    "print type(a[0])\n",
    "print a[0].decode('utf-8')\n",
    "print type(a[0].decode('utf-8'))\n",
    "print _uniout.unescape(str(a), 'utf8')\n",
    "\n",
    "#List 後面沒有decode方法"
   ]
  },
  {
   "cell_type": "code",
   "execution_count": null,
   "metadata": {
    "collapsed": true
   },
   "outputs": [],
   "source": []
  },
  {
   "cell_type": "code",
   "execution_count": null,
   "metadata": {
    "collapsed": true
   },
   "outputs": [],
   "source": []
  },
  {
   "cell_type": "code",
   "execution_count": null,
   "metadata": {
    "collapsed": true
   },
   "outputs": [],
   "source": []
  },
  {
   "cell_type": "code",
   "execution_count": null,
   "metadata": {
    "collapsed": true
   },
   "outputs": [],
   "source": []
  }
 ],
 "metadata": {
  "anaconda-cloud": {},
  "kernelspec": {
   "display_name": "Python [conda root]",
   "language": "python",
   "name": "conda-root-py"
  },
  "language_info": {
   "codemirror_mode": {
    "name": "ipython",
    "version": 3
   },
   "file_extension": ".py",
   "mimetype": "text/x-python",
   "name": "python",
   "nbconvert_exporter": "python",
   "pygments_lexer": "ipython3",
   "version": "3.5.2"
  }
 },
 "nbformat": 4,
 "nbformat_minor": 1
}
