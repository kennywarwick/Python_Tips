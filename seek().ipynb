{
 "cells": [
  {
   "cell_type": "markdown",
   "metadata": {},
   "source": [
    "### Seek & Read"
   ]
  },
  {
   "cell_type": "code",
   "execution_count": 6,
   "metadata": {
    "collapsed": false
   },
   "outputs": [
    {
     "name": "stdout",
     "output_type": "stream",
     "text": [
      "file.read(4)  #讀取前4个字節\n",
      "hell\n",
      "=====================================================\n",
      "file.read(6)  #注意這裡是在剛才讀過的基礎上再向後讀的\n",
      "o\n",
      "worl\n",
      "=====================================================\n",
      "file.read()  #不指定size，則讀到文件結尾\n",
      "d\n",
      "hello\n",
      "python\n",
      "=====================================================\n",
      "file.read()  #再讀時已是文件結尾\n",
      "\n",
      "=====================================================\n",
      "file.seek(0)  #將文件位置定位到第一个字節\n",
      "file.readline()  #一次讀一行\n",
      "hello\n",
      "\n",
      "=====================================================\n",
      "file.readline()\n",
      "world\n",
      "\n",
      "=====================================================\n",
      "file.seek(0)   #將文件定位到開始\n",
      "file.readlines()   #讀取整個文件的内容\n",
      "['hello\\n', 'world\\n', 'hello\\n', 'python']\n",
      "=====================================================\n",
      "file.tell() #讀完之後顯示seek位置，即文件的最後了\n",
      "27\n",
      "=====================================================\n",
      "file.name   #查看文件的名稱\n",
      "test.txt\n",
      "=====================================================\n",
      "file.close() #關閉文件\n"
     ]
    }
   ],
   "source": [
    "### seek & read\n",
    "file=open('test.txt')\n",
    "print \"file.read(4)  #讀取前4个字節\"\n",
    "print file.read(4)  #讀取前4个字節\n",
    "print \"=====================================================\"\n",
    "print \"file.read(6)  #注意這裡是在剛才讀過的基礎上再向後讀的\"\n",
    "print file.read(6)  #注意這裡是在剛才讀過的基礎上再向後讀的\n",
    "print \"=====================================================\"\n",
    "print \"file.read()  #不指定size，則讀到文件結尾\"\n",
    "print file.read()  #不指定size，則讀到文件結尾\n",
    "print \"=====================================================\"\n",
    "print \"file.read()  #再讀時已是文件結尾\"\n",
    "print file.read()  #再讀時已是文件結尾\n",
    "print \"=====================================================\"\n",
    "print \"file.seek(0)  #將文件位置定位到第一个字節\"\n",
    "print \"file.readline()  #一次讀一行\"\n",
    "file.seek(0)  #將文件位置定位到第一个字節\n",
    "print file.readline()  #一次讀一行\n",
    "print \"=====================================================\"\n",
    "print \"file.readline()\"\n",
    "print file.readline()\n",
    "print \"=====================================================\"\n",
    "print \"file.seek(0)   #將文件定位到開始\"\n",
    "print \"file.readlines()   #讀取整個文件的内容\"\n",
    "file.seek(0)   #將文件定位到開始\n",
    "print file.readlines()   #讀取整個文件的内容\n",
    "print \"=====================================================\"\n",
    "print \"file.tell() #讀完之後顯示seek位置，即文件的最後了\"\n",
    "print file.tell() #讀完之後顯示seek位置，即文件的最後了\n",
    "print \"=====================================================\"\n",
    "print \"file.name   #查看文件的名稱\"\n",
    "print file.name   #查看文件的名稱\n",
    "print \"=====================================================\"\n",
    "print \"file.close() #關閉文件\"\n",
    "file.close() #關閉文件"
   ]
  }
 ],
 "metadata": {
  "anaconda-cloud": {},
  "kernelspec": {
   "display_name": "Python [default]",
   "language": "python",
   "name": "python2"
  },
  "language_info": {
   "codemirror_mode": {
    "name": "ipython",
    "version": 2
   },
   "file_extension": ".py",
   "mimetype": "text/x-python",
   "name": "python",
   "nbconvert_exporter": "python",
   "pygments_lexer": "ipython2",
   "version": "2.7.12"
  }
 },
 "nbformat": 4,
 "nbformat_minor": 1
}
