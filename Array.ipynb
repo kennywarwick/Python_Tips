{
 "cells": [
  {
   "cell_type": "markdown",
   "metadata": {},
   "source": [
    "### Array"
   ]
  },
  {
   "cell_type": "markdown",
   "metadata": {},
   "source": [
    "##### ---------------------------------------------------基本觀念釐清-------------------------------------------------\n",
    "\n",
    "##### 陣列跟矩陣到底有什麼不同？首先，陣列(array)依照其維度可分成一維、二維與多維。\n",
    "\n",
    "##### 若陣列只有一維，我們通常稱它為向量(vector)，例如：[1, 2, 3]。\n",
    "\n",
    "##### 若陣列為二維且每一列長度皆相同，我們就會稱它為矩陣(matrix)，例如：[[1, 2, 3], [4, 5, 6]]。\n",
    "\n",
    "##### ----------------------------------------------------------------------------------------------------------------------"
   ]
  },
  {
   "cell_type": "markdown",
   "metadata": {},
   "source": [
    "### 如何建置array"
   ]
  },
  {
   "cell_type": "code",
   "execution_count": 38,
   "metadata": {
    "collapsed": false
   },
   "outputs": [
    {
     "name": "stdout",
     "output_type": "stream",
     "text": [
      "array的data為 ：  \n",
      "[[1 2]\n",
      " [3 4]]\n",
      "array的type為 ：  <type 'numpy.ndarray'>\n",
      "matrix的data為 ：  \n",
      "[[1 2]\n",
      " [3 4]]\n",
      "matrix的type為 ：  <class 'numpy.matrixlib.defmatrix.matrix'>\n",
      "================================================\n",
      "matrix的data為 ：  \n",
      "[[1 2 3]\n",
      " [3 4 5]\n",
      " [5 6 7]]\n",
      "matrix的type為 ：  <class 'numpy.matrixlib.defmatrix.matrix'>\n",
      "matrix.A的維度為 ：  2\n",
      "array的data為 ：  \n",
      "[[[1 2]\n",
      "  [3 4]]\n",
      "\n",
      " [[5 6]\n",
      "  [7 8]]]\n",
      "array的type為 ：  <type 'numpy.ndarray'>\n",
      "array.A的維度為 ：  3\n"
     ]
    }
   ],
   "source": [
    "import numpy as np\n",
    "A1 = np.array([[1, 2], [3, 4]])\n",
    "print \"array的data為 ： \",\"\\n\",(A1)\n",
    "print \"array的type為 ： \", type(A1)\n",
    "A2 = np.matrix([[1, 2], [3, 4]])\n",
    "print \"matrix的data為 ： \",\"\\n\",(A2)\n",
    "print \"matrix的type為 ： \", type(A2)\n",
    "print \"================================================\"\n",
    "A = np.matrix([[ 1, 2, 3], [ 3, 4, 5], [ 5, 6, 7]])\n",
    "print \"matrix的data為 ： \",\"\\n\",A\n",
    "print \"matrix的type為 ： \",type(A)\n",
    "print \"matrix.A的維度為 ： \", np.ndim(A)\n",
    "A = np.array([[[1, 2], [3, 4]], [[5, 6], [7, 8]]])\n",
    "print \"array的data為 ： \",\"\\n\",A\n",
    "print \"array的type為 ： \",type(A)\n",
    "print \"array.A的維度為 ： \", np.ndim(A)"
   ]
  },
  {
   "cell_type": "code",
   "execution_count": 16,
   "metadata": {
    "collapsed": false
   },
   "outputs": [
    {
     "name": "stdout",
     "output_type": "stream",
     "text": [
      "[[ 4.9  3.   1.4  0.2]\n",
      " [ 4.7  3.2  1.3  0.2]\n",
      " [ 4.6  3.1  1.5  0.2]\n",
      " [ 5.   3.6  1.4  0.2]] \n",
      "\n",
      "iris.data的type為 ：  \n",
      "<type 'numpy.ndarray'> \n",
      "\n",
      "iris.data的data為 ：  \n",
      "[[ 4.9  3.   1.4  0.2]\n",
      " [ 4.7  3.2  1.3  0.2]\n",
      " [ 4.6  3.1  1.5  0.2]\n",
      " [ 5.   3.6  1.4  0.2]] \n",
      "\n",
      "iris.target的type為 ：  \n",
      "<type 'numpy.ndarray'> \n",
      "\n",
      "iris.target的data為 ：  \n",
      "[0 0 0 0] \n",
      "\n"
     ]
    }
   ],
   "source": [
    "#coding:UTF-8\n",
    "from sklearn import datasets\n",
    "iris = datasets.load_iris()\n",
    "print iris.get(\"data\")[1:5],\"\\n\"\n",
    "print \"iris.data的type為 ： \",\"\\n\", type(iris.data),\"\\n\"\n",
    "print \"iris.data的data為 ： \",\"\\n\", iris.data[1:5],\"\\n\"\n",
    "print \"iris.target的type為 ： \",\"\\n\",type(iris.target),\"\\n\"\n",
    "print \"iris.target的data為 ： \",\"\\n\", iris.target[1:5],\"\\n\""
   ]
  },
  {
   "cell_type": "code",
   "execution_count": null,
   "metadata": {
    "collapsed": false
   },
   "outputs": [],
   "source": []
  },
  {
   "cell_type": "code",
   "execution_count": 2,
   "metadata": {
    "collapsed": false
   },
   "outputs": [
    {
     "name": "stdout",
     "output_type": "stream",
     "text": [
      "<type 'numpy.ndarray'>\n"
     ]
    }
   ],
   "source": [
    "import numpy as np\n",
    "a = [[\"123\",\"321\",\"456\"]]\n",
    "b = np.array(a)\n",
    "print type(b)"
   ]
  },
  {
   "cell_type": "code",
   "execution_count": 21,
   "metadata": {
    "collapsed": false
   },
   "outputs": [
    {
     "name": "stdout",
     "output_type": "stream",
     "text": [
      "[[3 0 1 1 3 1 3 2 1 2 4 2 4 2 4 0 2 2 4 2 1 2 2 1 1 4 3 4 4 3 4 2 4 2 1 4 1\n",
      "  4 1 0 2 3 4 1 2 3 2 0 3 4 2 2 2 0 4 2 4 4 3 0 3 2 4 4 0 4 0 0 0 3 1 3 2 4\n",
      "  3 0 4 0 1 3 2 0 2 2 1 0 2 1 4 2 2 4 1 0 3 0 4 1 3 3]\n",
      " [0 3 0 0 3 1 1 3 0 2 4 4 1 0 0 0 2 3 3 1 4 2 1 0 1 2 3 3 2 1 1 1 1 1 1 2 2\n",
      "  1 1 2 2 4 0 4 4 1 0 0 0 1 4 0 0 0 0 4 1 4 1 1 0 3 4 4 0 0 1 4 3 3 3 0 1 4\n",
      "  3 1 2 1 3 3 4 2 4 2 4 1 3 2 3 4 2 4 2 3 3 4 1 0 1 0]\n",
      " [0 3 4 1 2 4 1 4 3 2 0 2 0 1 3 2 2 4 3 4 0 3 0 2 0 1 2 3 2 4 0 4 1 2 1 4 0\n",
      "  4 1 1 2 0 4 2 2 0 4 1 3 1 3 2 3 2 2 2 3 3 2 2 1 3 0 0 4 4 1 3 1 0 2 4 1 0\n",
      "  0 0 1 3 2 1 1 4 3 3 4 0 1 1 0 3 1 0 3 0 0 4 1 0 3 3]\n",
      " [0 3 2 3 1 0 2 2 4 0 3 4 3 4 2 2 2 3 1 1 2 0 3 0 0 1 0 4 3 2 1 0 1 1 0 0 3\n",
      "  0 0 1 3 3 0 0 0 4 1 3 0 0 1 3 0 3 1 0 0 3 3 3 0 2 4 2 3 0 3 3 0 4 1 4 0 0\n",
      "  1 1 1 0 0 0 3 3 2 0 1 1 4 4 2 0 1 3 1 0 4 2 4 2 4 4]\n",
      " [1 3 0 1 0 1 1 0 0 3 3 0 0 4 0 0 4 2 2 0 4 2 1 3 0 3 2 4 3 4 1 0 2 3 1 0 1\n",
      "  0 1 3 4 0 1 0 4 4 3 3 2 2 0 1 1 2 3 2 4 2 3 4 1 3 1 1 0 4 0 4 3 3 3 1 2 4\n",
      "  1 0 4 1 0 0 1 1 1 3 1 3 4 3 1 1 0 1 0 0 4 0 0 1 4 1]\n",
      " [3 4 0 2 4 0 2 2 0 1 0 2 4 0 0 3 4 4 1 4 3 3 2 0 0 0 1 1 2 2 0 3 0 1 4 1 3\n",
      "  2 3 1 4 2 4 3 2 3 2 3 4 1 4 0 4 1 3 3 4 0 3 1 2 4 0 3 2 3 1 3 3 3 4 1 4 1\n",
      "  2 0 2 0 3 2 3 0 0 4 1 2 3 2 1 0 1 4 1 4 4 1 2 3 0 0]]\n",
      "<type 'numpy.ndarray'>\n"
     ]
    },
    {
     "data": {
      "text/plain": [
       "MultinomialNB(alpha=1.0, class_prior=None, fit_prior=True)"
      ]
     },
     "execution_count": 21,
     "metadata": {},
     "output_type": "execute_result"
    }
   ],
   "source": [
    "import numpy as np\n",
    "X = np.random.randint(5, size=(6, 100))\n",
    "print X\n",
    "print type(X)\n",
    "y = np.array([1, 2, 3, 4, 5, 6])\n",
    "# print y\n",
    "from sklearn.naive_bayes import MultinomialNB\n",
    "clf = MultinomialNB()\n",
    "clf.fit(X, y)\n",
    "# MultinomialNB(alpha=1.0, class_prior=None, fit_prior=True)\n",
    "# print(clf.predict(X[2:3]))"
   ]
  },
  {
   "cell_type": "code",
   "execution_count": null,
   "metadata": {
    "collapsed": false
   },
   "outputs": [],
   "source": []
  }
 ],
 "metadata": {
  "anaconda-cloud": {},
  "kernelspec": {
   "display_name": "Python [conda root]",
   "language": "python",
   "name": "conda-root-py"
  },
  "language_info": {
   "codemirror_mode": {
    "name": "ipython",
    "version": 3
   },
   "file_extension": ".py",
   "mimetype": "text/x-python",
   "name": "python",
   "nbconvert_exporter": "python",
   "pygments_lexer": "ipython3",
   "version": "3.5.2"
  }
 },
 "nbformat": 4,
 "nbformat_minor": 1
}
